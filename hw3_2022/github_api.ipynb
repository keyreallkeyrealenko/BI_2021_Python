{
 "cells": [
  {
   "cell_type": "code",
   "execution_count": 338,
   "id": "e1fbbfde",
   "metadata": {},
   "outputs": [],
   "source": [
    "import requests\n",
    "from bs4 import BeautifulSoup"
   ]
  },
  {
   "cell_type": "markdown",
   "id": "dcd44081",
   "metadata": {},
   "source": [
    "## Functions:"
   ]
  },
  {
   "cell_type": "code",
   "execution_count": 328,
   "id": "0bb3a632",
   "metadata": {},
   "outputs": [],
   "source": [
    "def get_soup(url):\n",
    "    \"\"\"This function returns Soup object from given url\"\"\"\n",
    "    resp = requests.get(url)\n",
    "    if resp.status_code == 404:\n",
    "        raise NameError('incorrect path')\n",
    "    return BeautifulSoup(resp.content)"
   ]
  },
  {
   "cell_type": "code",
   "execution_count": 329,
   "id": "8977e8d5",
   "metadata": {},
   "outputs": [],
   "source": [
    "def get_user_info(username):\n",
    "    \"\"\"This function receives user_name of a GitHub account.\n",
    "    Return the dictionary with following keys respectively to GH-account:\n",
    "    -user_name\n",
    "    -organization\n",
    "    -city\n",
    "    -followers\n",
    "    -repositories\"\"\"\n",
    "    userinfo = {}\n",
    "    user = 'https://github.com/' + username\n",
    "    soup = get_soup(user)\n",
    "    user_name = soup.find('span', class_=\"p-name vcard-fullname d-block overflow-hidden\").text.strip()\n",
    "    if not user_name:\n",
    "        userinfo['user_name'] = 'unknown'\n",
    "    else:        \n",
    "        userinfo['user_name'] = user_name\n",
    "    try:\n",
    "        org_name = soup.find(\"span\", class_=\"p-org\").text\n",
    "        userinfo['organization'] = org_name\n",
    "    except AttributeError:\n",
    "        userinfo['organization'] = 'unknown'\n",
    "    try:\n",
    "        city = soup.find('span',class_=\"p-label\").text\n",
    "        userinfo['city'] = city\n",
    "    except AttributeError:\n",
    "        userinfo['city'] = 'unknown'\n",
    "    try:\n",
    "        followers = soup.find(\"a\", class_='Link--secondary no-underline no-wrap').find(\n",
    "            \"span\", class_='text-bold color-fg-default').text\n",
    "        userinfo['followers'] = followers\n",
    "    except AttributeError:\n",
    "        userinfo['followers'] = 0\n",
    "    try:\n",
    "        repo = soup.find('nav', class_='UnderlineNav-body width-full p-responsive').find(\n",
    "            'span', class_='Counter').text\n",
    "        userinfo['repositories'] = repo\n",
    "    except AttributeError:\n",
    "        userinfo['repositories'] = 0\n",
    "    \n",
    "    return userinfo\n",
    "        "
   ]
  },
  {
   "cell_type": "code",
   "execution_count": 330,
   "id": "c470ca57",
   "metadata": {},
   "outputs": [],
   "source": [
    "def get_user_repositories(username):\n",
    "    \"\"\"It receives username and returns the dictionary with all public repositories\n",
    "    of a given username (GH-account) and used languages of these repositories\"\"\"\n",
    "    repos = {}\n",
    "    user = 'https://github.com/' + username + '?tab=repositories'\n",
    "    soup = get_soup(user)\n",
    "    user_name = soup.find('span', class_=\"p-name vcard-fullname d-block overflow-hidden\").text.strip()\n",
    "    if not user_name:\n",
    "        repos['username'] = 'Unknown user name of ' + 'https://github.com/' + username\n",
    "    else: \n",
    "        repos['username'] = user_name\n",
    "    found_repo = soup.find(\n",
    "        'div', id=\"user-repositories-list\").find_all(\"div\", class_='col-10 col-lg-9 d-inline-block')\n",
    "    for repo in found_repo:\n",
    "        if repo.find(\"span\", class_='Label Label--secondary v-align-middle ml-1 mb-1').text.strip() == 'Public':\n",
    "            try:\n",
    "                lang = repo.find('span', itemprop='programmingLanguage').text\n",
    "                repos[repo.find(\"a\").text.strip()] = lang.strip()\n",
    "            except AttributeError:\n",
    "                repos[repo.find(\"a\").text.strip()] = 'None'\n",
    "    \n",
    "    return repos"
   ]
  },
  {
   "cell_type": "code",
   "execution_count": 333,
   "id": "7eae154b",
   "metadata": {},
   "outputs": [],
   "source": [
    "def list_repository_contents(username, repository):\n",
    "    \"\"\"Returns repository content from given account, repository and repository_path\"\"\"\n",
    "    content = []\n",
    "    # Не понимаю, зачем нужен аргумент repository_path. Это же полный путь до репозитория.\n",
    "    # Так что оставлю username and repository (можно наоборот)\n",
    "    github_path = 'https://github.com/' + username + '/' + repository\n",
    "    soup = get_soup(github_path)\n",
    "    grid = soup.find('div', role='grid').find_all('div', role='row')\n",
    "    for element in grid:\n",
    "        header = element.find('div', role='rowheader')\n",
    "        try:\n",
    "            content.append(header.find('a').text)\n",
    "        except AttributeError:\n",
    "            continue\n",
    "    return content"
   ]
  },
  {
   "cell_type": "code",
   "execution_count": 462,
   "id": "58c9f646",
   "metadata": {},
   "outputs": [],
   "source": [
    "def download_file(remote_file_path, local_file_path):\n",
    "    \"\"\"Download file with recieved remote path to local path\"\"\"\n",
    "    # Также и здесь достаточно ведь remo_file_path заменяет и username и repository\n",
    "    # e.g. : https://github.com/keyreallkeyrealenko/BI_2021_Python/blob/main/.gitignore - remote_file_path\n",
    "    # удалю здесь username и repository\n",
    "    # Здесь очень костыли, совсем не успевал\n",
    "    soup = get_soup(remote_file_path)\n",
    "    groups = soup.find_all('div',class_='BtnGroup')\n",
    "    link = ''\n",
    "    for group in groups:\n",
    "        if group.find('a', class_='js-permalink-replaceable-link btn-sm btn BtnGroup-item'):\n",
    "            link = group.find('a', class_='js-permalink-replaceable-link btn-sm btn BtnGroup-item')\n",
    "    if not link:\n",
    "        raise ValueError('you are trying to download a full directory')\n",
    "    url = 'https://raw.githubusercontent.com' + link.get('href').replace('raw/', '') \n",
    "    req = requests.get(url,allow_redirects=True)\n",
    "    with open(local_file_path, 'wb') as file:\n",
    "        file.write(req.content)"
   ]
  },
  {
   "cell_type": "code",
   "execution_count": 464,
   "id": "55765f52",
   "metadata": {
    "scrolled": false
   },
   "outputs": [],
   "source": [
    "download_file('https://github.com/eriklindernoren/PyTorch-YOLOv3/blob/master/.github/dependabot.yml', './file')"
   ]
  },
  {
   "cell_type": "code",
   "execution_count": 457,
   "id": "a61cd70a",
   "metadata": {},
   "outputs": [
    {
     "ename": "NameError",
     "evalue": "name 'a' is not defined",
     "output_type": "error",
     "traceback": [
      "\u001b[0;31m---------------------------------------------------------------------------\u001b[0m",
      "\u001b[0;31mNameError\u001b[0m                                 Traceback (most recent call last)",
      "\u001b[0;32m/var/folders/w8/hw1zjhy15ylfl_tjlk0h4zbh0000gn/T/ipykernel_5306/219619201.py\u001b[0m in \u001b[0;36m<module>\u001b[0;34m\u001b[0m\n\u001b[0;32m----> 1\u001b[0;31m \u001b[0;32mif\u001b[0m \u001b[0;32mnot\u001b[0m \u001b[0ma\u001b[0m\u001b[0;34m:\u001b[0m\u001b[0;34m\u001b[0m\u001b[0;34m\u001b[0m\u001b[0m\n\u001b[0m\u001b[1;32m      2\u001b[0m     \u001b[0mprint\u001b[0m\u001b[0;34m(\u001b[0m\u001b[0;36m2\u001b[0m\u001b[0;34m)\u001b[0m\u001b[0;34m\u001b[0m\u001b[0;34m\u001b[0m\u001b[0m\n",
      "\u001b[0;31mNameError\u001b[0m: name 'a' is not defined"
     ]
    }
   ],
   "source": [
    "if not a:\n",
    "    print(2)"
   ]
  },
  {
   "cell_type": "code",
   "execution_count": 337,
   "id": "9af5cfe4",
   "metadata": {},
   "outputs": [
    {
     "data": {
      "text/plain": [
       "['ANN_genre_classification',\n",
       " 'clustering',\n",
       " 'data',\n",
       " 'feature_extraction_and_data_preprocessing',\n",
       " 'random_forest_genre_classification',\n",
       " 'segmentation',\n",
       " 'README.md',\n",
       " 'requirements.txt']"
      ]
     },
     "execution_count": 337,
     "metadata": {},
     "output_type": "execute_result"
    }
   ],
   "source": [
    "list_repository_contents('krglkvrmn', 'IB_Music_project')"
   ]
  },
  {
   "cell_type": "code",
   "execution_count": 288,
   "id": "7e30345d",
   "metadata": {
    "scrolled": true
   },
   "outputs": [
    {
     "data": {
      "text/plain": [
       "{'username': 'Roman Kruglikov',\n",
       " 'FlowSOM': 'Python',\n",
       " 'Clipboard_translater': 'Python',\n",
       " 'Virtual_environment_research': 'Python',\n",
       " 'IB_Music_project': 'Jupyter Notebook',\n",
       " 'Asteroids_pygame_tutorial': 'Python',\n",
       " 'BI_2021_spring_project': 'Jupyter Notebook',\n",
       " 'SeqTools': 'Python',\n",
       " 'BI_Statistics_projects': 'None',\n",
       " 'BI_Python': 'Jupyter Notebook',\n",
       " 'MAG_gi_plasmid_analysis': 'Jupyter Notebook'}"
      ]
     },
     "execution_count": 288,
     "metadata": {},
     "output_type": "execute_result"
    }
   ],
   "source": [
    "get_user_repositories('krglkvrmn')"
   ]
  },
  {
   "cell_type": "code",
   "execution_count": 289,
   "id": "09f0d7d0",
   "metadata": {
    "scrolled": false
   },
   "outputs": [
    {
     "data": {
      "text/plain": [
       "{'user_name': 'Roman Kruglikov',\n",
       " 'organization': 'unknown',\n",
       " 'city': 'Moscow',\n",
       " 'followers': '1',\n",
       " 'repositories': '10'}"
      ]
     },
     "execution_count": 289,
     "metadata": {},
     "output_type": "execute_result"
    }
   ],
   "source": [
    "get_user_info('krglkvrmn')"
   ]
  },
  {
   "cell_type": "code",
   "execution_count": null,
   "id": "fef5b187",
   "metadata": {},
   "outputs": [],
   "source": [
    "keyreallkeyrealenko/BI_2021_Python"
   ]
  },
  {
   "cell_type": "markdown",
   "id": "c49094c7",
   "metadata": {},
   "source": [
    "## Finctions END"
   ]
  }
 ],
 "metadata": {
  "kernelspec": {
   "display_name": "Python 3 (ipykernel)",
   "language": "python",
   "name": "python3"
  },
  "language_info": {
   "codemirror_mode": {
    "name": "ipython",
    "version": 3
   },
   "file_extension": ".py",
   "mimetype": "text/x-python",
   "name": "python",
   "nbconvert_exporter": "python",
   "pygments_lexer": "ipython3",
   "version": "3.9.7"
  }
 },
 "nbformat": 4,
 "nbformat_minor": 5
}
