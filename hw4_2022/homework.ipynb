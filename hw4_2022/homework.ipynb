{
 "cells": [
  {
   "cell_type": "code",
   "execution_count": 2,
   "id": "9a69358f",
   "metadata": {},
   "outputs": [],
   "source": [
    "import sqlite3\n",
    "import pandas as pd\n",
    "import matplotlib.pyplot as plt"
   ]
  },
  {
   "cell_type": "code",
   "execution_count": 3,
   "id": "735515c6",
   "metadata": {},
   "outputs": [],
   "source": [
    "# 16S rRNA data obtained by my own from ticks gut.\n",
    "data = pd.read_csv('./classified_species_BC_15.csv')"
   ]
  },
  {
   "cell_type": "code",
   "execution_count": 4,
   "id": "4916fc0a",
   "metadata": {},
   "outputs": [],
   "source": [
    "def describe_dataframe(dataframe):\n",
    "    \"\"\"The introduction function to explore the dataframe\"\"\"\n",
    "    print(dataframe.shape)\n",
    "    print(dataframe.head())\n",
    "    print(dataframe.info())\n",
    "    plt.rcParams[\"figure.figsize\"] = (12, 8)\n",
    "    plt.plot(dataframe['count'], lw=3, c='r')\n",
    "    plt.xlabel('species ID')\n",
    "    plt.ylabel('number of reads belonging to the species')\n",
    "    plt.show()"
   ]
  },
  {
   "cell_type": "code",
   "execution_count": 5,
   "id": "f596bcbe",
   "metadata": {},
   "outputs": [],
   "source": [
    "def create_sql_table(dataframe, connect):\n",
    "    \"\"\"Save pandas.DataFrame dataframe file as a SQL-table and return sqlite3.cursor instance\"\"\"\n",
    "    cursor = connect.cursor()\n",
    "    dataframe.to_sql('metagenome', connect, if_exists='replace', index=False)\n",
    "    return cursor"
   ]
  },
  {
   "cell_type": "code",
   "execution_count": 6,
   "id": "dd861602",
   "metadata": {},
   "outputs": [],
   "source": [
    "def filter_table(cursor, method='percent', percent=1, count=5000):\n",
    "    \"\"\"This function filters SQL-table\n",
    "    - percent_filter – filters SQL-table  by species present percent\n",
    "    - count_filter – filters SQL-table by number of reads belonging to species\n",
    "    - method – {percent, count}, default - percent. Decide how to filter SQL-table. \"\"\"\n",
    "\n",
    "    def percent_filter(cur, per):\n",
    "        subset = cur.execute(f\"\"\"SELECT * FROM metagenome WHERE percent > {per}\"\"\").fetchall()\n",
    "        return pd.DataFrame(subset, columns=['species', 'count', 'percent'])\n",
    "\n",
    "    def count_filter(cur, cnt):\n",
    "        subset = cur.execute(f\"\"\"SELECT * FROM metagenome WHERE count > {cnt}\"\"\").fetchall()\n",
    "        return pd.DataFrame(subset, columns=['species', 'count', 'percent'])\n",
    "\n",
    "    if method == 'percent':\n",
    "        return percent_filter(cursor, percent)\n",
    "    elif method == 'count':\n",
    "        return count_filter(cursor, count)\n",
    "    else:\n",
    "        raise ValueError('Available methods are: percent and count')"
   ]
  },
  {
   "cell_type": "code",
   "execution_count": 7,
   "id": "883792bf",
   "metadata": {},
   "outputs": [],
   "source": [
    "def count_reads(cursor):\n",
    "    \"\"\"This function count number of total defined reads in SQL-table\"\"\"\n",
    "    return cursor.execute(\"\"\"SELECT sum(count) FROM metagenome\"\"\").fetchone()[0]"
   ]
  },
  {
   "cell_type": "code",
   "execution_count": 8,
   "id": "20bf460a",
   "metadata": {},
   "outputs": [],
   "source": [
    "def delete_row(cursor, species):\n",
    "    \"\"\"Delete row with specific species ID and recount percent column\"\"\"\n",
    "    cursor.execute(f\"\"\"DELETE FROM metagenome WHERE species ='{species}'\"\"\")\n",
    "    total_number = count_reads(cursor)\n",
    "    cursor.execute(f\"\"\"UPDATE metagenome SET percent = CAST(count*100 AS float) / {total_number}\"\"\")\n",
    "    return cursor"
   ]
  },
  {
   "cell_type": "code",
   "execution_count": 9,
   "id": "7ab711cf",
   "metadata": {},
   "outputs": [],
   "source": [
    "def main():\n",
    "    # This is 16S sequencing data obtained by my own from tick gut\n",
    "    conn = sqlite3.connect('metagenome.db')\n",
    "    data = pd.read_csv('./classified_species_BC_15.csv')\n",
    "    describe_dataframe(data)\n",
    "    cur = create_sql_table(data, connect=conn)\n",
    "    data_flt_count = filter_table(cur, method='count', count=1000)\n",
    "    print(data_flt_count.tail())\n",
    "    data_flt_percent = filter_table(cur, method='percent', percent=5)\n",
    "    print(data_flt_percent.tail())\n",
    "    reads = count_reads(cur)\n",
    "    print(f\"Total number of reads: {reads}\")\n",
    "    delete_row(cursor= cur, species='Methylobacterium goesingense')\n",
    "    conn.commit()"
   ]
  },
  {
   "cell_type": "code",
   "execution_count": 10,
   "id": "92ee3230",
   "metadata": {
    "scrolled": true
   },
   "outputs": [
    {
     "name": "stdout",
     "output_type": "stream",
     "text": [
      "(1346, 3)\n",
      "                             species  count  percent\n",
      "0       Methylobacterium goesingense  45861   10.699\n",
      "1     Staphylococcus saccharolyticus  39657    9.252\n",
      "2                 Sphingomonas faeni  34089    7.953\n",
      "3  Escherichia fergusonii ATCC 35469  26741    6.239\n",
      "4            Streptococcus sanguinis  25321    5.907\n",
      "<class 'pandas.core.frame.DataFrame'>\n",
      "RangeIndex: 1346 entries, 0 to 1345\n",
      "Data columns (total 3 columns):\n",
      " #   Column   Non-Null Count  Dtype  \n",
      "---  ------   --------------  -----  \n",
      " 0   species  1346 non-null   object \n",
      " 1   count    1346 non-null   int64  \n",
      " 2   percent  1346 non-null   float64\n",
      "dtypes: float64(1), int64(1), object(1)\n",
      "memory usage: 31.7+ KB\n",
      "None\n"
     ]
    },
    {
     "data": {
      "image/png": "[encoded data removed]",
      "text/plain": [
       "<Figure size 864x576 with 1 Axes>"
      ]
     },
     "metadata": {
      "needs_background": "light"
     },
     "output_type": "display_data"
    },
    {
     "name": "stdout",
     "output_type": "stream",
     "text": [
      "                                      species  count  percent\n",
      "50                   Aurantimonas endophytica   1123    0.262\n",
      "51                   Bradyrhizobium mercantei   1101    0.257\n",
      "52  Staphylococcus capitis subsp. urealyticus   1080    0.252\n",
      "53                     Methylorubrum zatmanii   1057    0.247\n",
      "54             Anaerococcus urinomassiliensis   1002    0.234\n",
      "                             species  count  percent\n",
      "0       Methylobacterium goesingense  45861   10.699\n",
      "1     Staphylococcus saccharolyticus  39657    9.252\n",
      "2                 Sphingomonas faeni  34089    7.953\n",
      "3  Escherichia fergusonii ATCC 35469  26741    6.239\n",
      "4            Streptococcus sanguinis  25321    5.907\n",
      "Total number of reads: 428630\n"
     ]
    }
   ],
   "source": [
    "if __name__ == '__main__':\n",
    "    main()"
   ]
  }
 ],
 "metadata": {
  "kernelspec": {
   "display_name": "Python 3 (ipykernel)",
   "language": "python",
   "name": "python3"
  },
  "language_info": {
   "codemirror_mode": {
    "name": "ipython",
    "version": 3
   },
   "file_extension": ".py",
   "mimetype": "text/x-python",
   "name": "python",
   "nbconvert_exporter": "python",
   "pygments_lexer": "ipython3",
   "version": "3.9.7"
  }
 },
 "nbformat": 4,
 "nbformat_minor": 5
}
